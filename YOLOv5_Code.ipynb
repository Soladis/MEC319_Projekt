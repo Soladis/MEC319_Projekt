{
  "nbformat": 4,
  "nbformat_minor": 0,
  "metadata": {
    "colab": {
      "provenance": []
    },
    "kernelspec": {
      "name": "python3",
      "display_name": "Python 3"
    },
    "language_info": {
      "name": "python"
    },
    "accelerator": "GPU",
    "gpuClass": "standard"
  },
  "cells": [
    {
      "cell_type": "markdown",
      "source": [
        "# **YOLOv5 Daten kopieren**"
      ],
      "metadata": {
        "id": "CvmYTu8bq_1b"
      }
    },
    {
      "cell_type": "code",
      "execution_count": null,
      "metadata": {
        "id": "sqQ64NtUqngE"
      },
      "outputs": [],
      "source": [
        "!git clone https://github.com/ultralytics/yolov5  # clone\n",
        "%cd yolov5\n",
        "%pip install -qr requirements.txt  # install\n",
        "\n",
        "import torch\n",
        "import utils\n",
        "display = utils.notebook_init()  # checks"
      ]
    },
    {
      "cell_type": "markdown",
      "source": [
        "# **Datensatz von Roboflow kopieren**"
      ],
      "metadata": {
        "id": "HWgZiS-7rIGw"
      }
    },
    {
      "cell_type": "code",
      "source": [
        "# REPLACE with your custom code snippet generated above\n",
        "!pip install roboflow\n",
        "\n",
        "from roboflow import Roboflow\n",
        "rf = Roboflow(api_key=\"5TpHQpOZWzBmVu68hxV4\")\n",
        "project = rf.workspace(\"projekt-b66rg\").project(\"ders-icin-olan\")\n",
        "dataset = project.version(9).download(\"yolov5\")"
      ],
      "metadata": {
        "id": "0fcoSBOPq923"
      },
      "execution_count": null,
      "outputs": []
    },
    {
      "cell_type": "markdown",
      "source": [
        "# **Drive verbinden**"
      ],
      "metadata": {
        "id": "u-MKNSNdrWBj"
      }
    },
    {
      "cell_type": "code",
      "source": [
        "from google.colab import drive\n",
        "\n",
        "drive.mount('/content/gdrive')"
      ],
      "metadata": {
        "id": "g4GW2E91rZLr",
        "colab": {
          "base_uri": "https://localhost:8080/"
        },
        "outputId": "cdc7c798-cce9-457e-e8ae-44c5f6bd86b5"
      },
      "execution_count": null,
      "outputs": [
        {
          "output_type": "stream",
          "name": "stdout",
          "text": [
            "Mounted at /content/gdrive\n"
          ]
        }
      ]
    },
    {
      "cell_type": "markdown",
      "source": [
        "# **Training**"
      ],
      "metadata": {
        "id": "MlPS__i3s9eH"
      }
    },
    {
      "cell_type": "code",
      "source": [
        "!python train.py --img 640 --batch 16 --epochs 50 --data ders-icin-olan-9/data.yaml --weights yolov5s.pt --cache"
      ],
      "metadata": {
        "id": "oV9RzqRntIQw"
      },
      "execution_count": null,
      "outputs": []
    },
    {
      "cell_type": "markdown",
      "source": [
        "# **Erkennung**"
      ],
      "metadata": {
        "id": "Y5a9-RiNtPc4"
      }
    },
    {
      "cell_type": "code",
      "source": [
        "!python detect.py --weights runs/train/exp/weights/best.pt --img 640 --conf 0.4 --source /content/gdrive/MyDrive/Gruppe6_Mechatronisches_Projekt/2022_Teknofestvideo_ohne_Test.mp4"
      ],
      "metadata": {
        "id": "I3olV_IvtRpu"
      },
      "execution_count": null,
      "outputs": []
    },
    {
      "cell_type": "markdown",
      "source": [
        "# **Auf Drive hochladen**"
      ],
      "metadata": {
        "id": "qoBKQtWaUj39"
      }
    },
    {
      "cell_type": "code",
      "source": [
        "import shutil\n",
        "colab_link = \"/content/yolov5/runs/detect/exp2/3.3k_image_50_epochs.mp4\"\n",
        "gdrive_link = \"/content/gdrive/MyDrive/Colab_Notebooks\"\n",
        "shutil.copy(colab_link, gdrive_link)"
      ],
      "metadata": {
        "id": "xps5MzFpUpDm"
      },
      "execution_count": null,
      "outputs": []
    },
    {
      "cell_type": "markdown",
      "source": [
        "# **Quellen**\n",
        "\n",
        "Github link: https://github.com/ultralytics/yolov5\n",
        "---\n",
        "\n",
        "Colab link: https://colab.research.google.com/github/ultralytics/yolov5/blob/"
      ],
      "metadata": {
        "id": "IUfVUeH1t-PW"
      }
    }
  ]
}